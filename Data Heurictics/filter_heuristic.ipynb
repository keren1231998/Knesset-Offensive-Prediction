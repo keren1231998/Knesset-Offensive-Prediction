{
  "nbformat": 4,
  "nbformat_minor": 0,
  "metadata": {
    "colab": {
      "provenance": []
    },
    "kernelspec": {
      "name": "python3",
      "display_name": "Python 3"
    },
    "language_info": {
      "name": "python"
    }
  },
  "cells": [
    {
      "cell_type": "code",
      "execution_count": 1,
      "metadata": {
        "id": "VPRwRI1nADUZ"
      },
      "outputs": [],
      "source": [
        "import pandas as pd\n",
        "import re\n",
        "import os"
      ]
    },
    {
      "cell_type": "code",
      "source": [
        "calls_to_order = ['אני קורא אותך לסדר', 'אני קוראת אותך לסדר', 'זאת אזהרה אחרונה',\n",
        "                'קריאה לסדר', 'קריאת ראשונה לסדר', 'אני מזהיר אותך', 'קורא אותך',\n",
        "                'קוראת אותך', 'קורא לך לסדר', 'קוראת לך לסדר']\n",
        "\n"
      ],
      "metadata": {
        "id": "HIad1CjyAtTE"
      },
      "execution_count": null,
      "outputs": []
    },
    {
      "cell_type": "code",
      "source": [
        "# Function to check if any calls_to_order word exists in the conversation\n",
        "def contains_cut(conversation):\n",
        "    \"\"\"\n",
        "    Check if any calls_to_order word exists in the conversation and return 1 if found, else 0.\n",
        "    \"\"\"\n",
        "    list_2=[\"- -\"]\n",
        "    if isinstance(conversation, str):\n",
        "        return 1 if any(word in conversation for word in list_2) else 0\n",
        "    return 0  #\n"
      ],
      "metadata": {
        "id": "iAf6hc5uASet"
      },
      "execution_count": null,
      "outputs": []
    },
    {
      "cell_type": "code",
      "source": [
        "# Function to check if any calls_to_order word exists in the conversation\n",
        "def contains_calls_to_order(conversation, calls_to_order):\n",
        "    \"\"\"\n",
        "    Check if any calls_to_order word exists in the conversation and return 1 if found, else 0.\n",
        "    \"\"\"\n",
        "    if isinstance(conversation, str):\n",
        "        return 1 if any(word in conversation for word in calls_to_order) else 0\n",
        "    return 0"
      ],
      "metadata": {
        "id": "B56tIqPVAM6H"
      },
      "execution_count": null,
      "outputs": []
    }
  ]
}