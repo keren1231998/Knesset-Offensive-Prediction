{
 "cells": [
  {
   "cell_type": "code",
   "execution_count": 1,
   "metadata": {
    "id": "nyZumcwgeuB8"
   },
   "outputs": [],
   "source": [
    "# Function to check if any calls_to_order word exists in the conversation\n",
    "def contains_2(conversation):\n",
    "    \"\"\"\n",
    "    Check if any calls_to_order word exists in the conversation and return 1 if found, else 0.\n",
    "    \"\"\"\n",
    "    list_2=[\"- -\"]\n",
    "    if isinstance(conversation, str):  # Ensure the conversation is a string\n",
    "        return 1 if any(word in conversation for word in list_2) else 0\n",
    "    return 0  # Return 0 if the conversation is not a string\n"
   ]
  },
  {
   "cell_type": "code",
   "execution_count": 2,
   "metadata": {
    "id": "fRpptMKCUu8L"
   },
   "outputs": [],
   "source": [
    "calls_to_order = ['אני קורא אותך לסדר', 'אני קוראת אותך לסדר', 'זאת אזהרה אחרונה',\n",
    "                'קריאה לסדר', 'קריאת ראשונה לסדר', 'אני מזהיר אותך', 'קורא אותך',\n",
    "                'קוראת אותך', 'קורא לך לסדר', 'קוראת לך לסדר']\n",
    "# Function to check if any calls_to_order word exists in the conversation\n",
    "def contains_calls_to_order(conversation, calls_to_order):\n",
    "    \"\"\"\n",
    "    Check if any calls_to_order word exists in the conversation and return 1 if found, else 0.\n",
    "    \"\"\"\n",
    "    if isinstance(conversation, str):  # Ensure the conversation is a string\n",
    "        return 1 if any(word in conversation for word in calls_to_order) else 0\n",
    "    return 0  # Return 0 if the conversation is not a string\n",
    "\n"
   ]
  },
  {
   "cell_type": "code",
   "execution_count": 3,
   "metadata": {
    "id": "GSRH1lTwUvXb"
   },
   "outputs": [
    {
     "name": "stdout",
     "output_type": "stream",
     "text": [
      "                committee_name  session_id chairperson speaker_name  \\\n",
      "0  ועדת העלייה הקליטה והתפוצות     2061121    צבי הנדל     צבי הנדל   \n",
      "1  ועדת העלייה הקליטה והתפוצות     2061121    צבי הנדל     רוני ארד   \n",
      "2  ועדת העלייה הקליטה והתפוצות     2061121    צבי הנדל     צבי הנדל   \n",
      "3  ועדת העלייה הקליטה והתפוצות     2061121    צבי הנדל     רוני ארד   \n",
      "4  ועדת העלייה הקליטה והתפוצות     2061121    צבי הנדל  בוריס מפציר   \n",
      "\n",
      "                                        conversation  contains_cut  \\\n",
      "0  . שלום וברכה לכולם.  שלום כבוד שר הקליטה, שבאו...             0   \n",
      "1  . לא.  עוד לא התקבלה החלטה אצל השר.  אנחנו היי...             0   \n",
      "2  . מדי שבוע מגיעים 100 עולים מאתיופיה.  זאת עלי...             0   \n",
      "3  . השר יודע על כך.  אנחנו הצגנו לשר את כלל התמו...             0   \n",
      "4                                       . מספטמבר..              0   \n",
      "\n",
      "   contains_calls_to_order  \n",
      "0                        0  \n",
      "1                        0  \n",
      "2                        0  \n",
      "3                        0  \n",
      "4                        0  \n",
      "             committee_name  session_id chairperson speaker_name  \\\n",
      "0  ועדת הפנים ואיכות הסביבה     2069219    יואב קיש     יואב קיש   \n",
      "1  ועדת הפנים ואיכות הסביבה     2069219    יואב קיש   עמיחי פישר   \n",
      "2  ועדת הפנים ואיכות הסביבה     2069219    יואב קיש   ישראלה מני   \n",
      "3  ועדת הפנים ואיכות הסביבה     2069219    יואב קיש     יואב קיש   \n",
      "4  ועדת הפנים ואיכות הסביבה     2069219    יואב קיש   ישראלה מני   \n",
      "\n",
      "                                        conversation  contains_cut  \\\n",
      "0  . בוקר טוב, אני פותח את הישיבה. אנחנו דנים בהצ...             0   \n",
      "1  . 52 עם אפשרות לקצר ל-45 זה הזמן שיש בהיתר מזו...             0   \n",
      "2  . זה לא להעביר את הטפסים. היא שלחה את זה בתוך ...             0   \n",
      "3                                    . איזה טפסים?.              0   \n",
      "4  . אתם כותבים שעל אף האמור, רשות הרישוי תמסור א...             0   \n",
      "\n",
      "   contains_calls_to_order  \n",
      "0                        0  \n",
      "1                        0  \n",
      "2                        0  \n",
      "3                        0  \n",
      "4                        0  \n",
      "         committee_name  session_id   chairperson   speaker_name  \\\n",
      "0  הוועדה לפניות הציבור     2146268  יוסף ג'בארין     יבגני סובה   \n",
      "1  הוועדה לפניות הציבור     2146268  יוסף ג'בארין      ג'אבר נסר   \n",
      "2  הוועדה לפניות הציבור     2146268  יוסף ג'בארין   יוסף ג'בארין   \n",
      "3  הוועדה לפניות הציבור     2146268  יוסף ג'בארין      ג'אבר נסר   \n",
      "4  הוועדה לפניות הציבור     2146268  יוסף ג'בארין   יוסף ג'בארין   \n",
      "\n",
      "                                  conversation  contains_cut  \\\n",
      "0                              \\nאני אחר כך.\\n             0   \n",
      "1                       \\nהפעילות בבתי הספר.\\n             0   \n",
      "2  \\nאז איפה הפעילות הייתה? איפה היו החוגים?\\n             0   \n",
      "3                           \\nלא, לא נוסעים.\\n             0   \n",
      "4       \\nהילדים בעראבה נסעו לנחף ולדיר חנא?\\n             0   \n",
      "\n",
      "   contains_calls_to_order  \n",
      "0                        0  \n",
      "1                        0  \n",
      "2                        0  \n",
      "3                        0  \n",
      "4                        0  \n",
      "                   committee_name  session_id chairperson    speaker_name  \\\n",
      "0  ועדת החינוך התרבות והספורט  מס     2190128    שרן מרים      משה טור פז   \n",
      "1  ועדת החינוך התרבות והספורט  מס     2190128    שרן מרים   שרן מרים השכל   \n",
      "2  ועדת החינוך התרבות והספורט  מס     2190128    שרן מרים      אינה זלצמן   \n",
      "3  ועדת החינוך התרבות והספורט  מס     2190128    שרן מרים   שרן מרים השכל   \n",
      "4  ועדת החינוך התרבות והספורט  מס     2190128    שרן מרים      אינה זלצמן   \n",
      "\n",
      "                                        conversation  contains_cut  \\\n",
      "0                       \\nוגם לעודד בתי ספר לרצות.\\n             0   \n",
      "1          \\nבספטמבר אתם מתחייבים כבר להעביר - - -\\n             1   \n",
      "2  \\nאנחנו רוצים ששנה הבאה המסמך הזה ייצא לבתי הס...             0   \n",
      "3  \\nהשאלה היא, כלומר גם כשהוא יוצא צריכה להיעשות...             0   \n",
      "4                             \\nנעשה את זה בשיתוף.\\n             0   \n",
      "\n",
      "   contains_calls_to_order  \n",
      "0                        0  \n",
      "1                        0  \n",
      "2                        0  \n",
      "3                        0  \n",
      "4                        0  \n",
      "                committee_name  session_id chairperson     speaker_name  \\\n",
      "0  ועדת העלייה הקליטה והתפוצות     2211224   עודד פורר        עודד פורר   \n",
      "1  ועדת העלייה הקליטה והתפוצות     2211224   עודד פורר  יוליה מלינובסקי   \n",
      "2  ועדת העלייה הקליטה והתפוצות     2211224   עודד פורר      יעקב גרידיש   \n",
      "3  ועדת העלייה הקליטה והתפוצות     2211224   עודד פורר  יוליה מלינובסקי   \n",
      "4  ועדת העלייה הקליטה והתפוצות     2211224   עודד פורר        עודד פורר   \n",
      "\n",
      "                                        conversation  contains_cut  \\\n",
      "0                      \\nמה זאת אומרת לא היה רשום?\\n             0   \n",
      "1                               \\nאתם עושים את זה?\\n             0   \n",
      "2  \\nלא נתקבלה בקשה, אבל אין מניעה לעשות את הדבר ...             0   \n",
      "3  \\nאולי כדאי לא לחכות שייפנו, אולי להגיד שיש כז...             0   \n",
      "4  \\nהם אמרו שיש אופציה כזאת, זה גם ייצא מפה בסיכ...             0   \n",
      "\n",
      "   contains_calls_to_order  \n",
      "0                        0  \n",
      "1                        0  \n",
      "2                        0  \n",
      "3                        0  \n",
      "4                        0  \n"
     ]
    }
   ],
   "source": [
    "import pandas as pd\n",
    "\n",
    "for batch in range(16,21):\n",
    "    df= pd.read_csv(f\"/home/liorkob/thesis/nlp_course/Call-to-order/Pre_Process/batch_{batch}_processed_data.csv\")\n",
    "    # Add a new column indicating if - - or - - - words are found\n",
    "    df[\"contains_cut\"] = df[\"conversation\"].apply(lambda x: contains_2(x))\n",
    "    # Add a new column indicating if calls_to_order words are found\n",
    "    df[\"contains_calls_to_order\"] = df[\"conversation\"].apply(lambda x: contains_calls_to_order(x, calls_to_order))\n",
    "    print(df.head())\n",
    "    df.to_csv(f\"/home/liorkob/thesis/nlp_course/Call-to-order/Pre_Process/batch_{batch}_cut_call.csv\")"
   ]
  }
 ],
 "metadata": {
  "accelerator": "GPU",
  "colab": {
   "gpuType": "T4",
   "provenance": []
  },
  "kernelspec": {
   "display_name": "lcp",
   "language": "python",
   "name": "python3"
  },
  "language_info": {
   "codemirror_mode": {
    "name": "ipython",
    "version": 3
   },
   "file_extension": ".py",
   "mimetype": "text/x-python",
   "name": "python",
   "nbconvert_exporter": "python",
   "pygments_lexer": "ipython3",
   "version": "3.9.21"
  }
 },
 "nbformat": 4,
 "nbformat_minor": 0
}
