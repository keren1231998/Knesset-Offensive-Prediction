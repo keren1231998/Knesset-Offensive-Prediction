{
 "cells": [
  {
   "cell_type": "code",
   "execution_count": 29,
   "id": "08ef01d1-aeee-421f-b0de-dd354410cdd5",
   "metadata": {},
   "outputs": [
    {
     "data": {
      "text/html": [
       "<div>\n",
       "<style scoped>\n",
       "    .dataframe tbody tr th:only-of-type {\n",
       "        vertical-align: middle;\n",
       "    }\n",
       "\n",
       "    .dataframe tbody tr th {\n",
       "        vertical-align: top;\n",
       "    }\n",
       "\n",
       "    .dataframe thead th {\n",
       "        text-align: right;\n",
       "    }\n",
       "</style>\n",
       "<table border=\"1\" class=\"dataframe\">\n",
       "  <thead>\n",
       "    <tr style=\"text-align: right;\">\n",
       "      <th></th>\n",
       "      <th>committee_name</th>\n",
       "      <th>session_id</th>\n",
       "      <th>chairperson</th>\n",
       "      <th>speaker_name</th>\n",
       "      <th>conversation</th>\n",
       "      <th>contain_offensive_words</th>\n",
       "      <th>dicta_answer</th>\n",
       "    </tr>\n",
       "  </thead>\n",
       "  <tbody>\n",
       "    <tr>\n",
       "      <th>0</th>\n",
       "      <td>א קולס  יור  אוריאל לין</td>\n",
       "      <td>2047959</td>\n",
       "      <td>א' קולס</td>\n",
       "      <td>א' קולס</td>\n",
       "      <td>. הייתי מבקש לשמוע את התשובות בנוכחות המוסדות ...</td>\n",
       "      <td>0.0</td>\n",
       "      <td>0.0</td>\n",
       "    </tr>\n",
       "    <tr>\n",
       "      <th>1</th>\n",
       "      <td>א קולס  יור  אוריאל לין</td>\n",
       "      <td>2047959</td>\n",
       "      <td>א' קולס</td>\n",
       "      <td>א' קולס</td>\n",
       "      <td>. מי שבוגר בראיית חשבון נשארות לו שתי בחינות, ...</td>\n",
       "      <td>0.0</td>\n",
       "      <td>0.0</td>\n",
       "    </tr>\n",
       "    <tr>\n",
       "      <th>2</th>\n",
       "      <td>א קולס  יור  אוריאל לין</td>\n",
       "      <td>2047959</td>\n",
       "      <td>א' קולס</td>\n",
       "      <td>א' קולס</td>\n",
       "      <td>. שינינו את החוק. מאחר וחסר לנו אחד השותפים הב...</td>\n",
       "      <td>0.0</td>\n",
       "      <td>0.0</td>\n",
       "    </tr>\n",
       "    <tr>\n",
       "      <th>3</th>\n",
       "      <td>א קולס  יור  אוריאל לין</td>\n",
       "      <td>2047959</td>\n",
       "      <td>א' קולס</td>\n",
       "      <td>אי קולס</td>\n",
       "      <td>. אני רוצה להעיר הערה אחת. אם להתיחס לתפיסת הע...</td>\n",
       "      <td>0.0</td>\n",
       "      <td>0.0</td>\n",
       "    </tr>\n",
       "    <tr>\n",
       "      <th>4</th>\n",
       "      <td>א קולס  יור  אוריאל לין</td>\n",
       "      <td>2047959</td>\n",
       "      <td>א' קולס</td>\n",
       "      <td>אוריאל לין</td>\n",
       "      <td>. איזה מקצועות?. . .</td>\n",
       "      <td>0.0</td>\n",
       "      <td>0.0</td>\n",
       "    </tr>\n",
       "    <tr>\n",
       "      <th>...</th>\n",
       "      <td>...</td>\n",
       "      <td>...</td>\n",
       "      <td>...</td>\n",
       "      <td>...</td>\n",
       "      <td>...</td>\n",
       "      <td>...</td>\n",
       "      <td>...</td>\n",
       "    </tr>\n",
       "    <tr>\n",
       "      <th>21854372</th>\n",
       "      <td>תקציב תרבות תורנית יהודית ומכונים תורניים</td>\n",
       "      <td>102273</td>\n",
       "      <td>יעקב ליצמן</td>\n",
       "      <td>רוני בריזון</td>\n",
       "      <td>. אני מנסה להבין: מדוע לא עושים שימוש בתבחינים...</td>\n",
       "      <td>0.0</td>\n",
       "      <td>0.0</td>\n",
       "    </tr>\n",
       "    <tr>\n",
       "      <th>21854373</th>\n",
       "      <td>תקציב תרבות תורנית יהודית ומכונים תורניים</td>\n",
       "      <td>102273</td>\n",
       "      <td>יעקב ליצמן</td>\n",
       "      <td>רוני בריזון</td>\n",
       "      <td>. יש מערכת של תבחינים קיימת.  את התבחינים האלה...</td>\n",
       "      <td>0.0</td>\n",
       "      <td>0.0</td>\n",
       "    </tr>\n",
       "    <tr>\n",
       "      <th>21854374</th>\n",
       "      <td>תקציב תרבות תורנית יהודית ומכונים תורניים</td>\n",
       "      <td>102273</td>\n",
       "      <td>יעקב ליצמן</td>\n",
       "      <td>רוני בריזון</td>\n",
       "      <td>. למה אין נציג של משרד החינוך?.</td>\n",
       "      <td>0.0</td>\n",
       "      <td>0.0</td>\n",
       "    </tr>\n",
       "    <tr>\n",
       "      <th>21854375</th>\n",
       "      <td>תקציב תרבות תורנית יהודית ומכונים תורניים</td>\n",
       "      <td>102273</td>\n",
       "      <td>יעקב ליצמן</td>\n",
       "      <td>רוני בריזון</td>\n",
       "      <td>. מראש?.</td>\n",
       "      <td>0.0</td>\n",
       "      <td>0.0</td>\n",
       "    </tr>\n",
       "    <tr>\n",
       "      <th>21854376</th>\n",
       "      <td>תקציב תרבות תורנית יהודית ומכונים תורניים</td>\n",
       "      <td>102273</td>\n",
       "      <td>יעקב ליצמן</td>\n",
       "      <td>שאמ</td>\n",
       "      <td>נון</td>\n",
       "      <td>0.0</td>\n",
       "      <td>0.0</td>\n",
       "    </tr>\n",
       "  </tbody>\n",
       "</table>\n",
       "<p>21854377 rows × 7 columns</p>\n",
       "</div>"
      ],
      "text/plain": [
       "                                     committee_name  session_id chairperson  \\\n",
       "0                           א קולס  יור  אוריאל לין     2047959     א' קולס   \n",
       "1                           א קולס  יור  אוריאל לין     2047959     א' קולס   \n",
       "2                           א קולס  יור  אוריאל לין     2047959     א' קולס   \n",
       "3                           א קולס  יור  אוריאל לין     2047959     א' קולס   \n",
       "4                           א קולס  יור  אוריאל לין     2047959     א' קולס   \n",
       "...                                             ...         ...         ...   \n",
       "21854372  תקציב תרבות תורנית יהודית ומכונים תורניים      102273  יעקב ליצמן   \n",
       "21854373  תקציב תרבות תורנית יהודית ומכונים תורניים      102273  יעקב ליצמן   \n",
       "21854374  תקציב תרבות תורנית יהודית ומכונים תורניים      102273  יעקב ליצמן   \n",
       "21854375  תקציב תרבות תורנית יהודית ומכונים תורניים      102273  יעקב ליצמן   \n",
       "21854376  תקציב תרבות תורנית יהודית ומכונים תורניים      102273  יעקב ליצמן   \n",
       "\n",
       "         speaker_name                                       conversation  \\\n",
       "0             א' קולס  . הייתי מבקש לשמוע את התשובות בנוכחות המוסדות ...   \n",
       "1             א' קולס  . מי שבוגר בראיית חשבון נשארות לו שתי בחינות, ...   \n",
       "2             א' קולס  . שינינו את החוק. מאחר וחסר לנו אחד השותפים הב...   \n",
       "3             אי קולס  . אני רוצה להעיר הערה אחת. אם להתיחס לתפיסת הע...   \n",
       "4          אוריאל לין                              . איזה מקצועות?. . .    \n",
       "...               ...                                                ...   \n",
       "21854372  רוני בריזון  . אני מנסה להבין: מדוע לא עושים שימוש בתבחינים...   \n",
       "21854373  רוני בריזון  . יש מערכת של תבחינים קיימת.  את התבחינים האלה...   \n",
       "21854374  רוני בריזון                   . למה אין נציג של משרד החינוך?.    \n",
       "21854375  רוני בריזון                                          . מראש?.    \n",
       "21854376          שאמ                                               נון    \n",
       "\n",
       "          contain_offensive_words  dicta_answer  \n",
       "0                             0.0           0.0  \n",
       "1                             0.0           0.0  \n",
       "2                             0.0           0.0  \n",
       "3                             0.0           0.0  \n",
       "4                             0.0           0.0  \n",
       "...                           ...           ...  \n",
       "21854372                      0.0           0.0  \n",
       "21854373                      0.0           0.0  \n",
       "21854374                      0.0           0.0  \n",
       "21854375                      0.0           0.0  \n",
       "21854376                      0.0           0.0  \n",
       "\n",
       "[21854377 rows x 7 columns]"
      ]
     },
     "execution_count": 29,
     "metadata": {},
     "output_type": "execute_result"
    }
   ],
   "source": [
    "import pandas as pd\n",
    "pd.read_csv(\"/sise/home/binada/pycharm_projects/nlp_project/Classificated_Data.csv\")"
   ]
  },
  {
   "cell_type": "code",
   "execution_count": 15,
   "id": "11f7200d-d952-4bba-8867-5d85f2b34f5d",
   "metadata": {},
   "outputs": [],
   "source": [
    "def filter_sessions_without_offensive(df):\n",
    "    # Filter out sessions with offensive words\n",
    "    sessions_without_offensive = df[df['contain_offensive_words'] != 1]['session_id'].unique()\n",
    "    \n",
    "    # Keep only sessions without offensive words\n",
    "    filtered_df = df[df['session_id'].isin(sessions_without_offensive)]\n",
    "    \n",
    "    return filtered_df\n",
    "\n",
    "df=filter_sessions_without_offensive(df)"
   ]
  },
  {
   "cell_type": "code",
   "execution_count": 16,
   "id": "bfb64e88-9ec1-486a-b50d-4c14a3afa579",
   "metadata": {},
   "outputs": [
    {
     "name": "stdout",
     "output_type": "stream",
     "text": [
      "(10696090, 7)\n"
     ]
    }
   ],
   "source": [
    "print(df.shape)"
   ]
  },
  {
   "cell_type": "code",
   "execution_count": 18,
   "id": "5eb99e5a-1bf6-48eb-ba98-4ddfc9abecad",
   "metadata": {},
   "outputs": [
    {
     "name": "stdout",
     "output_type": "stream",
     "text": [
      "(846158, 7)\n"
     ]
    }
   ],
   "source": [
    "filtered_rows = df[df['dicta_answer'] == 1]\n",
    "print(filtered_rows.shape)"
   ]
  },
  {
   "cell_type": "code",
   "execution_count": 25,
   "id": "1298c49f-ed9b-4c8a-8d0b-62d65e1a3cb1",
   "metadata": {},
   "outputs": [
    {
     "name": "stdout",
     "output_type": "stream",
     "text": [
      "Shape before: (10695656, 7)\n",
      "Shape after: (10695656, 7)\n"
     ]
    }
   ],
   "source": [
    "import pandas as pd\n",
    "\n",
    "# Assuming filtered_rows is your DataFrame\n",
    "print(\"Shape before:\", df.shape)\n",
    "\n",
    "# Count rows per session\n",
    "session_counts = df['session_id'].value_counts()\n",
    "\n",
    "# Filter sessions with 10 or more rows\n",
    "valid_sessions = session_counts[session_counts >= 30].index\n",
    "\n",
    "# Apply filter\n",
    "df = df[df['session_id'].isin(valid_sessions)]\n",
    "\n",
    "print(\"Shape after:\", df.shape)"
   ]
  },
  {
   "cell_type": "code",
   "execution_count": 23,
   "id": "7f405061-c266-4fbd-803f-de63762d8b07",
   "metadata": {},
   "outputs": [
    {
     "name": "stdout",
     "output_type": "stream",
     "text": [
      "(839926, 7)\n"
     ]
    }
   ],
   "source": [
    "filter_df = filter_df[filter_df['dicta_answer'] == 1]\n",
    "print(filtered_rows.shape)"
   ]
  },
  {
   "cell_type": "code",
   "execution_count": 26,
   "id": "82957282-b62e-4a77-a688-b95a1a2622e9",
   "metadata": {},
   "outputs": [],
   "source": [
    "df.to_csv(\"Classificated_Data.csv\", index=False)\n"
   ]
  },
  {
   "cell_type": "code",
   "execution_count": 1,
   "id": "f570a125-3a0b-45c2-a203-e81b775a93b4",
   "metadata": {},
   "outputs": [],
   "source": [
    "import pandas as pd\n",
    "df = pd.read_csv(\"/home/gorelikk/NLP-PROJECT/Pre_Process/Prediction/Multi_Bert/Classificated_Data.csv\")\n",
    "# Count rows where dicta_answer is 1"
   ]
  },
  {
   "cell_type": "code",
   "execution_count": 2,
   "id": "24b7d795-bbee-4d23-b51a-fb13b43e65cd",
   "metadata": {},
   "outputs": [
    {
     "name": "stderr",
     "output_type": "stream",
     "text": [
      "/home/gorelikk/.conda/envs/moj/lib/python3.9/site-packages/tqdm/auto.py:21: TqdmWarning: IProgress not found. Please update jupyter and ipywidgets. See https://ipywidgets.readthedocs.io/en/stable/user_install.html\n",
      "  from .autonotebook import tqdm as notebook_tqdm\n"
     ]
    }
   ],
   "source": [
    "import pandas as pd\n",
    "import numpy as np\n",
    "\n",
    "def count_sentences_before_dicta(df):\n",
    "    # Ensure dicta_answer is numeric\n",
    "    df = df.copy()\n",
    "    df['dicta_answer'] = pd.to_numeric(df['dicta_answer'], errors='coerce')\n",
    "    \n",
    "    def process_session(group):\n",
    "        # Find the index of the first row with dicta_answer = 1\n",
    "        first_positive_index = group[group['dicta_answer'] == 1].index.min()\n",
    "        \n",
    "        # If no positive dicta_answer, return 0\n",
    "        if pd.isna(first_positive_index):\n",
    "            return 0\n",
    "        \n",
    "        # Count sentences before the first positive dicta_answer\n",
    "        sentences_before = len(group.loc[:first_positive_index])\n",
    "        \n",
    "        return sentences_before\n",
    "    \n",
    "    # Group by session_id and apply the processing\n",
    "    result = df.groupby('session_id').apply(process_session)\n",
    "    \n",
    "    return {\n",
    "        'mean': result.mean(),\n",
    "        'min': result.min(),\n",
    "        'max': result.max()\n",
    "    }\n",
    "\n",
    "# Example usage:\n",
    "stats = count_sentences_before_dicta(df)\n",
    "print(stats)"
   ]
  },
  {
   "cell_type": "code",
   "execution_count": 2,
   "id": "8f4fa685",
   "metadata": {},
   "outputs": [
    {
     "name": "stdout",
     "output_type": "stream",
     "text": [
      "Number of rows with dicta_answer = 1: 846131\n",
      "The len of the Data: 10695656\n",
      "Number of rows with dicta_answer = 0:  9849525\n"
     ]
    }
   ],
   "source": [
    "\n",
    "rows_with_dicta_1 = df[df['dicta_answer'] == 1].shape[0]\n",
    "print(f\"Number of rows with dicta_answer = 1: {rows_with_dicta_1}\")\n",
    "print(f\"The len of the Data: {len(df)}\")\n",
    "print(f\"Number of rows with dicta_answer = 0:  {len(df)-rows_with_dicta_1}\")"
   ]
  },
  {
   "cell_type": "code",
   "execution_count": 13,
   "id": "6bf7ef21-d6e0-4188-b839-dad13c3adb5c",
   "metadata": {},
   "outputs": [
    {
     "name": "stderr",
     "output_type": "stream",
     "text": [
      "Collecting positive samples: 100%|██████████| 3716/3716 [03:02<00:00, 20.39it/s]  \n",
      "Collecting negative samples: 100%|██████████| 3716/3716 [30:54<00:00,  2.00it/s]    \n"
     ]
    },
    {
     "name": "stdout",
     "output_type": "stream",
     "text": [
      "\n",
      "Total sequences: 2536264\n",
      "Positive sequences: 846054\n",
      "Negative sequences: 1690210\n",
      "Ratio (positive:negative): 1:2.00\n"
     ]
    }
   ],
   "source": [
    "import pandas as pd\n",
    "import numpy as np\n",
    "from tqdm import tqdm\n",
    "\n",
    "import pandas as pd\n",
    "import numpy as np\n",
    "from tqdm import tqdm\n",
    "import pandas as pd\n",
    "import numpy as np\n",
    "from tqdm import tqdm\n",
    "\n",
    "import pandas as pd\n",
    "import numpy as np\n",
    "from tqdm import tqdm\n",
    "\n",
    "def prepare_sequence_data(df, window_size=3, target_ratio=2.0):\n",
    "    \"\"\"\n",
    "    Prepare sequence data maintaining target ratio of negative to positive samples.\n",
    "    \"\"\"\n",
    "    sequences = []\n",
    "    total_sessions = len(df['session_id'].unique())\n",
    "    \n",
    "    valid_sessions = df.groupby('session_id').filter(lambda x: len(x) >= window_size + 1)\n",
    "    session_groups = valid_sessions.groupby('session_id')\n",
    "    \n",
    "    # First pass: collect all positive samples\n",
    "    positive_sequences = []\n",
    "    for session_id, session_df in tqdm(session_groups, total=total_sessions, desc=\"Collecting positive samples\"):\n",
    "        session_data = session_df.reset_index(drop=True)\n",
    "        positive_indices = session_data[session_data['dicta_answer'] == 1].index\n",
    "        positive_indices = [i for i in positive_indices if i >= window_size]\n",
    "        \n",
    "        for i in positive_indices:\n",
    "            sequence = session_data.iloc[i-window_size:i+1].copy()\n",
    "            sequence['position'] = range(window_size + 1)\n",
    "            positive_sequences.append(sequence)\n",
    "    \n",
    "    total_positives = len(positive_sequences)\n",
    "    target_negatives = int(total_positives * target_ratio)\n",
    "    \n",
    "    # Second pass: collect negative samples\n",
    "    negative_sequences = []\n",
    "    for session_id, session_df in tqdm(session_groups, total=total_sessions, desc=\"Collecting negative samples\"):\n",
    "        session_data = session_df.reset_index(drop=True)\n",
    "        \n",
    "        # Get all possible negative windows\n",
    "        negative_indices = []\n",
    "        for i in range(window_size, len(session_data)):\n",
    "            if session_data.iloc[i]['dicta_answer'] == 0:\n",
    "                # Check if this forms a valid sequence\n",
    "                if all(pd.notna(session_data.iloc[i-window_size:i+1]['dicta_answer'])):\n",
    "                    negative_indices.append(i)\n",
    "        \n",
    "        if negative_indices:\n",
    "            # Calculate proportion of negatives to take from this session\n",
    "            session_proportion = len(session_df) / len(valid_sessions)\n",
    "            session_target = int(target_negatives * session_proportion)\n",
    "            n_to_take = min(len(negative_indices), session_target)\n",
    "            \n",
    "            if n_to_take > 0:\n",
    "                selected_indices = np.random.choice(negative_indices, size=n_to_take, replace=False)\n",
    "                for idx in selected_indices:\n",
    "                    sequence = session_data.iloc[idx-window_size:idx+1].copy()\n",
    "                    sequence['position'] = range(window_size + 1)\n",
    "                    negative_sequences.append(sequence)\n",
    "        \n",
    "        # Monitor memory usage\n",
    "        if len(negative_sequences) > 10000:\n",
    "            negative_sequences = pd.concat(negative_sequences, ignore_index=True)\n",
    "            negative_sequences = [negative_sequences]\n",
    "    \n",
    "    # Combine all sequences\n",
    "    all_sequences = positive_sequences + negative_sequences\n",
    "    result = pd.concat(all_sequences, ignore_index=True)\n",
    "    \n",
    "    total_sequences = len(result) // (window_size + 1)\n",
    "    final_positives = sum(result[result['position'] == window_size]['dicta_answer'] == 1)\n",
    "    final_negatives = sum(result[result['position'] == window_size]['dicta_answer'] == 0)\n",
    "    \n",
    "    print(f\"\\nTotal sequences: {total_sequences}\")\n",
    "    print(f\"Positive sequences: {final_positives}\")\n",
    "    print(f\"Negative sequences: {final_negatives}\")\n",
    "    print(f\"Ratio (positive:negative): 1:{final_negatives/final_positives:.2f}\")\n",
    "    \n",
    "    return result\n",
    "\n",
    "# Usage:\n",
    "df_window3 = prepare_sequence_data(df, window_size=3)"
   ]
  },
  {
   "cell_type": "code",
   "execution_count": 16,
   "id": "78f35e89-4121-4c29-a141-dbbf729ec46a",
   "metadata": {},
   "outputs": [],
   "source": [
    "processed_df.to_csv(\"pred_data.csv\")"
   ]
  },
  {
   "cell_type": "code",
   "execution_count": null,
   "id": "02d8fae9-2c9c-4b3f-be6c-befd882c6d5b",
   "metadata": {},
   "outputs": [],
   "source": []
  }
 ],
 "metadata": {
  "kernelspec": {
   "display_name": "Python 3 (ipykernel)",
   "language": "python",
   "name": "python3"
  },
  "language_info": {
   "codemirror_mode": {
    "name": "ipython",
    "version": 3
   },
   "file_extension": ".py",
   "mimetype": "text/x-python",
   "name": "python",
   "nbconvert_exporter": "python",
   "pygments_lexer": "ipython3",
   "version": "3.9.18"
  }
 },
 "nbformat": 4,
 "nbformat_minor": 5
}
